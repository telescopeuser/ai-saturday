{
 "cells": [
  {
   "cell_type": "code",
   "execution_count": 1,
   "metadata": {},
   "outputs": [],
   "source": [
    "%matplotlib inline"
   ]
  },
  {
   "cell_type": "markdown",
   "metadata": {},
   "source": [
    "\n",
    "Training a classifier\n",
    "=====================\n",
    "\n",
    "This is it. You have seen how to define neural networks, compute loss and make\n",
    "updates to the weights of the network.\n",
    "\n",
    "Now you might be thinking,\n",
    "\n",
    "What about data?\n",
    "----------------\n",
    "\n",
    "Generally, when you have to deal with image, text, audio or video data,\n",
    "you can use standard python packages that load data into a numpy array.\n",
    "Then you can convert this array into a ``torch.*Tensor``.\n",
    "\n",
    "-  For images, packages such as Pillow, OpenCV are useful.\n",
    "-  For audio, packages such as scipy and librosa\n",
    "-  For text, either raw Python or Cython based loading, or NLTK and\n",
    "   SpaCy are useful.\n",
    "\n",
    "Specifically for ``vision``, we have created a package called\n",
    "``torchvision``, that has data loaders for common datasets such as\n",
    "Imagenet, CIFAR10, MNIST, etc. and data transformers for images, viz.,\n",
    "``torchvision.datasets`` and ``torch.utils.data.DataLoader``.\n",
    "\n",
    "This provides a huge convenience and avoids writing boilerplate code.\n",
    "\n",
    "For this tutorial, we will use the CIFAR10 dataset.\n",
    "It has the classes: ‘airplane’, ‘automobile’, ‘bird’, ‘cat’, ‘deer’,\n",
    "‘dog’, ‘frog’, ‘horse’, ‘ship’, ‘truck’. The images in CIFAR-10 are of\n",
    "size 3x32x32, i.e. 3-channel color images of 32x32 pixels in size.\n",
    "\n",
    ".. figure:: /_static/img/cifar10.png\n",
    "   :alt: cifar10\n",
    "\n",
    "   cifar10\n",
    "\n",
    "\n",
    "Training an image classifier\n",
    "----------------------------\n",
    "\n",
    "We will do the following steps in order:\n",
    "\n",
    "1. Load and normalizing the CIFAR10 training and test datasets using\n",
    "   ``torchvision``\n",
    "2. Define a Convolution Neural Network\n",
    "3. Define a loss function\n",
    "4. Train the network on the training data\n",
    "5. Test the network on the test data\n",
    "\n",
    "1. Loading and normalizing CIFAR10\n",
    "^^^^^^^^^^^^^^^^^^^^^^^^^^^^^^^^^^\n",
    "\n",
    "Using ``torchvision``, it’s extremely easy to load CIFAR10.\n",
    "\n"
   ]
  },
  {
   "cell_type": "code",
   "execution_count": 2,
   "metadata": {},
   "outputs": [],
   "source": [
    "import torch\n",
    "import torchvision\n",
    "import torchvision.transforms as transforms"
   ]
  },
  {
   "cell_type": "code",
   "execution_count": 3,
   "metadata": {},
   "outputs": [
    {
     "data": {
      "text/plain": [
       "'0.3.0.post4'"
      ]
     },
     "execution_count": 3,
     "metadata": {},
     "output_type": "execute_result"
    }
   ],
   "source": [
    "torch.__version__"
   ]
  },
  {
   "cell_type": "markdown",
   "metadata": {},
   "source": [
    "The output of torchvision datasets are PILImage images of range [0, 1].\n",
    "We transform them to Tensors of normalized range [-1, 1]\n",
    "\n"
   ]
  },
  {
   "cell_type": "code",
   "execution_count": 4,
   "metadata": {},
   "outputs": [
    {
     "name": "stdout",
     "output_type": "stream",
     "text": [
      "Downloading https://www.cs.toronto.edu/~kriz/cifar-10-python.tar.gz to ./data/cifar-10-python.tar.gz\n",
      "Files already downloaded and verified\n"
     ]
    }
   ],
   "source": [
    "transform = transforms.Compose(\n",
    "    [transforms.ToTensor(),\n",
    "     transforms.Normalize((0.5, 0.5, 0.5), (0.5, 0.5, 0.5))])\n",
    "\n",
    "trainset = torchvision.datasets.CIFAR10(root='./data', train=True,\n",
    "                                        download=True, transform=transform)\n",
    "trainloader = torch.utils.data.DataLoader(trainset, batch_size=4,\n",
    "                                          shuffle=True, num_workers=2)\n",
    "\n",
    "testset = torchvision.datasets.CIFAR10(root='./data', train=False,\n",
    "                                       download=True, transform=transform)\n",
    "testloader = torch.utils.data.DataLoader(testset, batch_size=4,\n",
    "                                         shuffle=False, num_workers=2)\n",
    "\n",
    "classes = ('plane', 'car', 'bird', 'cat',\n",
    "           'deer', 'dog', 'frog', 'horse', 'ship', 'truck')"
   ]
  },
  {
   "cell_type": "markdown",
   "metadata": {},
   "source": [
    "Let us show some of the training images, for fun.\n",
    "\n"
   ]
  },
  {
   "cell_type": "code",
   "execution_count": 5,
   "metadata": {},
   "outputs": [
    {
     "name": "stdout",
     "output_type": "stream",
     "text": [
      "truck   car  bird   car\n"
     ]
    },
    {
     "data": {
      "image/png": "[encoded data removed]",
      "text/plain": [
       "<matplotlib.figure.Figure at 0x7f6fef190e10>"
      ]
     },
     "metadata": {},
     "output_type": "display_data"
    }
   ],
   "source": [
    "import matplotlib.pyplot as plt\n",
    "import numpy as np\n",
    "\n",
    "# functions to show an image\n",
    "\n",
    "\n",
    "def imshow(img):\n",
    "    img = img / 2 + 0.5     # unnormalize\n",
    "    npimg = img.numpy()\n",
    "    plt.imshow(np.transpose(npimg, (1, 2, 0)))\n",
    "\n",
    "\n",
    "# get some random training images\n",
    "dataiter = iter(trainloader)\n",
    "images, labels = dataiter.next()\n",
    "\n",
    "# show images\n",
    "imshow(torchvision.utils.make_grid(images))\n",
    "# print labels\n",
    "print(' '.join('%5s' % classes[labels[j]] for j in range(4)))"
   ]
  },
  {
   "cell_type": "markdown",
   "metadata": {},
   "source": [
    "2. Define a Convolution Neural Network\n",
    "^^^^^^^^^^^^^^^^^^^^^^^^^^^^^^^^^^^^^^\n",
    "Copy the neural network from the Neural Networks section before and modify it to\n",
    "take 3-channel images (instead of 1-channel images as it was defined).\n",
    "\n"
   ]
  },
  {
   "cell_type": "code",
   "execution_count": 6,
   "metadata": {},
   "outputs": [],
   "source": [
    "from torch.autograd import Variable\n",
    "import torch.nn as nn\n",
    "import torch.nn.functional as F\n",
    "\n",
    "\n",
    "class Net(nn.Module):\n",
    "    def __init__(self):\n",
    "        super(Net, self).__init__()\n",
    "        self.conv1 = nn.Conv2d(3, 6, 5)\n",
    "        self.pool = nn.MaxPool2d(2, 2)\n",
    "        self.conv2 = nn.Conv2d(6, 16, 5)\n",
    "        self.fc1 = nn.Linear(16 * 5 * 5, 120)\n",
    "        self.fc2 = nn.Linear(120, 84)\n",
    "        self.fc3 = nn.Linear(84, 10)\n",
    "\n",
    "    def forward(self, x):\n",
    "        x = self.pool(F.relu(self.conv1(x)))\n",
    "        x = self.pool(F.relu(self.conv2(x)))\n",
    "        x = x.view(-1, 16 * 5 * 5)\n",
    "        x = F.relu(self.fc1(x))\n",
    "        x = F.relu(self.fc2(x))\n",
    "        x = self.fc3(x)\n",
    "        return x\n",
    "\n",
    "\n",
    "net = Net()"
   ]
  },
  {
   "cell_type": "markdown",
   "metadata": {},
   "source": [
    "3. Define a Loss function and optimizer\n",
    "^^^^^^^^^^^^^^^^^^^^^^^^^^^^^^^^^^^^^^^\n",
    "Let's use a Classification Cross-Entropy loss and SGD with momentum\n",
    "\n"
   ]
  },
  {
   "cell_type": "code",
   "execution_count": 7,
   "metadata": {},
   "outputs": [],
   "source": [
    "import torch.optim as optim\n",
    "\n",
    "criterion = nn.CrossEntropyLoss()\n",
    "optimizer = optim.SGD(net.parameters(), lr=0.001, momentum=0.9)"
   ]
  },
  {
   "cell_type": "markdown",
   "metadata": {},
   "source": [
    "4. Train the network\n",
    "^^^^^^^^^^^^^^^^^^^^\n",
    "\n",
    "This is when things start to get interesting.\n",
    "We simply have to loop over our data iterator, and feed the inputs to the\n",
    "network and optimize\n",
    "\n"
   ]
  },
  {
   "cell_type": "code",
   "execution_count": 8,
   "metadata": {
    "scrolled": true
   },
   "outputs": [
    {
     "name": "stdout",
     "output_type": "stream",
     "text": [
      "[1,  2000] loss: 2.240\n",
      "[1,  4000] loss: 1.907\n",
      "[1,  6000] loss: 1.733\n",
      "[1,  8000] loss: 1.646\n",
      "[1, 10000] loss: 1.567\n",
      "[1, 12000] loss: 1.498\n",
      "[2,  2000] loss: 1.458\n",
      "[2,  4000] loss: 1.398\n",
      "[2,  6000] loss: 1.390\n",
      "[2,  8000] loss: 1.348\n",
      "[2, 10000] loss: 1.347\n",
      "[2, 12000] loss: 1.322\n",
      "Finished Training\n"
     ]
    }
   ],
   "source": [
    "for epoch in range(2):  # loop over the dataset multiple times\n",
    "\n",
    "    running_loss = 0.0\n",
    "    for i, data in enumerate(trainloader, 0):\n",
    "        # get the inputs\n",
    "        inputs, labels = data\n",
    "\n",
    "        # wrap them in Variable\n",
    "        inputs, labels = Variable(inputs), Variable(labels)\n",
    "\n",
    "        # zero the parameter gradients\n",
    "        optimizer.zero_grad()\n",
    "\n",
    "        # forward + backward + optimize\n",
    "        outputs = net(inputs)\n",
    "        loss = criterion(outputs, labels)\n",
    "        loss.backward()\n",
    "        optimizer.step()\n",
    "\n",
    "        # print statistics\n",
    "        running_loss += loss.data[0]\n",
    "        if i % 2000 == 1999:    # print every 2000 mini-batches\n",
    "            print('[%d, %5d] loss: %.3f' %\n",
    "                  (epoch + 1, i + 1, running_loss / 2000))\n",
    "            running_loss = 0.0\n",
    "\n",
    "print('Finished Training')"
   ]
  },
  {
   "cell_type": "code",
   "execution_count": 14,
   "metadata": {
    "scrolled": true
   },
   "outputs": [
    {
     "name": "stdout",
     "output_type": "stream",
     "text": [
      "[1,  2000] loss: 1.268\n",
      "[1,  4000] loss: 1.251\n",
      "[1,  6000] loss: 1.244\n",
      "[1,  8000] loss: 1.212\n",
      "[1, 10000] loss: 1.225\n",
      "[1, 12000] loss: 1.202\n",
      "[2,  2000] loss: 1.130\n",
      "[2,  4000] loss: 1.153\n",
      "[2,  6000] loss: 1.138\n",
      "[2,  8000] loss: 1.136\n",
      "[2, 10000] loss: 1.141\n",
      "[2, 12000] loss: 1.158\n",
      "[3,  2000] loss: 1.040\n",
      "[3,  4000] loss: 1.049\n",
      "[3,  6000] loss: 1.085\n",
      "[3,  8000] loss: 1.102\n",
      "[3, 10000] loss: 1.085\n",
      "[3, 12000] loss: 1.079\n",
      "[4,  2000] loss: 0.991\n",
      "[4,  4000] loss: 0.998\n",
      "[4,  6000] loss: 1.005\n",
      "[4,  8000] loss: 1.022\n",
      "[4, 10000] loss: 1.045\n",
      "[4, 12000] loss: 1.037\n",
      "[5,  2000] loss: 0.929\n",
      "[5,  4000] loss: 0.952\n",
      "[5,  6000] loss: 0.979\n",
      "[5,  8000] loss: 0.966\n",
      "[5, 10000] loss: 0.975\n",
      "[5, 12000] loss: 0.986\n",
      "[6,  2000] loss: 0.887\n",
      "[6,  4000] loss: 0.907\n",
      "[6,  6000] loss: 0.952\n",
      "[6,  8000] loss: 0.922\n",
      "[6, 10000] loss: 0.939\n",
      "[6, 12000] loss: 0.940\n",
      "[7,  2000] loss: 0.851\n",
      "[7,  4000] loss: 0.879\n",
      "[7,  6000] loss: 0.878\n",
      "[7,  8000] loss: 0.919\n",
      "[7, 10000] loss: 0.908\n",
      "[7, 12000] loss: 0.907\n",
      "[8,  2000] loss: 0.807\n",
      "[8,  4000] loss: 0.835\n",
      "[8,  6000] loss: 0.853\n",
      "[8,  8000] loss: 0.864\n",
      "[8, 10000] loss: 0.892\n",
      "[8, 12000] loss: 0.895\n",
      "[9,  2000] loss: 0.788\n",
      "[9,  4000] loss: 0.800\n",
      "[9,  6000] loss: 0.822\n",
      "[9,  8000] loss: 0.846\n",
      "[9, 10000] loss: 0.870\n",
      "[9, 12000] loss: 0.843\n",
      "[10,  2000] loss: 0.754\n",
      "[10,  4000] loss: 0.778\n",
      "[10,  6000] loss: 0.801\n",
      "[10,  8000] loss: 0.832\n",
      "[10, 10000] loss: 0.824\n",
      "[10, 12000] loss: 0.860\n",
      "[11,  2000] loss: 0.736\n",
      "[11,  4000] loss: 0.762\n",
      "[11,  6000] loss: 0.787\n",
      "[11,  8000] loss: 0.799\n",
      "[11, 10000] loss: 0.816\n",
      "[11, 12000] loss: 0.818\n",
      "[12,  2000] loss: 0.697\n",
      "[12,  4000] loss: 0.733\n",
      "[12,  6000] loss: 0.750\n",
      "[12,  8000] loss: 0.770\n",
      "[12, 10000] loss: 0.791\n",
      "[12, 12000] loss: 0.819\n",
      "[13,  2000] loss: 0.684\n",
      "[13,  4000] loss: 0.713\n",
      "[13,  6000] loss: 0.762\n",
      "[13,  8000] loss: 0.770\n",
      "[13, 10000] loss: 0.748\n",
      "[13, 12000] loss: 0.771\n",
      "[14,  2000] loss: 0.673\n",
      "[14,  4000] loss: 0.706\n",
      "[14,  6000] loss: 0.745\n",
      "[14,  8000] loss: 0.717\n",
      "[14, 10000] loss: 0.759\n",
      "[14, 12000] loss: 0.787\n",
      "[15,  2000] loss: 0.644\n",
      "[15,  4000] loss: 0.693\n",
      "[15,  6000] loss: 0.704\n",
      "[15,  8000] loss: 0.719\n",
      "[15, 10000] loss: 0.760\n",
      "[15, 12000] loss: 0.737\n",
      "[16,  2000] loss: 0.645\n",
      "[16,  4000] loss: 0.664\n",
      "[16,  6000] loss: 0.692\n",
      "[16,  8000] loss: 0.718\n",
      "[16, 10000] loss: 0.727\n",
      "[16, 12000] loss: 0.727\n",
      "[17,  2000] loss: 0.628\n",
      "[17,  4000] loss: 0.665\n",
      "[17,  6000] loss: 0.682\n",
      "[17,  8000] loss: 0.697\n",
      "[17, 10000] loss: 0.722\n",
      "[17, 12000] loss: 0.760\n",
      "[18,  2000] loss: 0.603\n",
      "[18,  4000] loss: 0.658\n",
      "[18,  6000] loss: 0.698\n",
      "[18,  8000] loss: 0.692\n",
      "[18, 10000] loss: 0.696\n",
      "[18, 12000] loss: 0.735\n",
      "[19,  2000] loss: 0.587\n",
      "[19,  4000] loss: 0.634\n",
      "[19,  6000] loss: 0.647\n",
      "[19,  8000] loss: 0.703\n",
      "[19, 10000] loss: 0.701\n",
      "[19, 12000] loss: 0.735\n",
      "[20,  2000] loss: 0.582\n",
      "[20,  4000] loss: 0.608\n",
      "[20,  6000] loss: 0.669\n",
      "[20,  8000] loss: 0.676\n",
      "[20, 10000] loss: 0.689\n",
      "[20, 12000] loss: 0.723\n",
      "[21,  2000] loss: 0.586\n",
      "[21,  4000] loss: 0.616\n",
      "[21,  6000] loss: 0.675\n",
      "[21,  8000] loss: 0.677\n",
      "[21, 10000] loss: 0.716\n",
      "[21, 12000] loss: 0.711\n",
      "[22,  2000] loss: 0.596\n",
      "[22,  4000] loss: 0.619\n",
      "[22,  6000] loss: 0.642\n",
      "[22,  8000] loss: 0.686\n",
      "[22, 10000] loss: 0.684\n",
      "[22, 12000] loss: 0.691\n",
      "[23,  2000] loss: 0.575\n",
      "[23,  4000] loss: 0.630\n",
      "[23,  6000] loss: 0.621\n",
      "[23,  8000] loss: 0.674\n",
      "[23, 10000] loss: 0.666\n",
      "[23, 12000] loss: 0.697\n",
      "[24,  2000] loss: 0.571\n",
      "[24,  4000] loss: 0.599\n",
      "[24,  6000] loss: 0.634\n",
      "[24,  8000] loss: 0.633\n",
      "[24, 10000] loss: 0.699\n",
      "[24, 12000] loss: 0.684\n",
      "[25,  2000] loss: 0.573\n",
      "[25,  4000] loss: 0.615\n",
      "[25,  6000] loss: 0.612\n",
      "[25,  8000] loss: 0.628\n",
      "[25, 10000] loss: 0.656\n",
      "[25, 12000] loss: 0.683\n",
      "[26,  2000] loss: 0.560\n",
      "[26,  4000] loss: 0.627\n",
      "[26,  6000] loss: 0.620\n",
      "[26,  8000] loss: 0.626\n",
      "[26, 10000] loss: 0.674\n",
      "[26, 12000] loss: 0.679\n",
      "[27,  2000] loss: 0.548\n",
      "[27,  4000] loss: 0.618\n",
      "[27,  6000] loss: 0.632\n",
      "[27,  8000] loss: 0.645\n",
      "[27, 10000] loss: 0.643\n",
      "[27, 12000] loss: 0.680\n",
      "[28,  2000] loss: 0.549\n",
      "[28,  4000] loss: 0.603\n",
      "[28,  6000] loss: 0.597\n",
      "[28,  8000] loss: 0.667\n",
      "[28, 10000] loss: 0.633\n",
      "[28, 12000] loss: 0.674\n",
      "[29,  2000] loss: 0.549\n",
      "[29,  4000] loss: 0.589\n",
      "[29,  6000] loss: 0.597\n",
      "[29,  8000] loss: 0.669\n",
      "[29, 10000] loss: 0.667\n",
      "[29, 12000] loss: 0.676\n",
      "[30,  2000] loss: 0.529\n",
      "[30,  4000] loss: 0.601\n",
      "[30,  6000] loss: 0.631\n",
      "[30,  8000] loss: 0.673\n",
      "[30, 10000] loss: 0.662\n",
      "[30, 12000] loss: 0.653\n",
      "[31,  2000] loss: 0.555\n",
      "[31,  4000] loss: 0.568\n",
      "[31,  6000] loss: 0.624\n",
      "[31,  8000] loss: 0.642\n",
      "[31, 10000] loss: 0.642\n",
      "[31, 12000] loss: 0.669\n",
      "[32,  2000] loss: 0.547\n",
      "[32,  4000] loss: 0.603\n",
      "[32,  6000] loss: 0.605\n",
      "[32,  8000] loss: 0.638\n",
      "[32, 10000] loss: 0.639\n",
      "[32, 12000] loss: 0.670\n",
      "[33,  2000] loss: 0.528\n",
      "[33,  4000] loss: 0.584\n",
      "[33,  6000] loss: 0.618\n",
      "[33,  8000] loss: 0.653\n",
      "[33, 10000] loss: 0.659\n",
      "[33, 12000] loss: 0.652\n",
      "[34,  2000] loss: 0.542\n",
      "[34,  4000] loss: 0.584\n",
      "[34,  6000] loss: 0.566\n",
      "[34,  8000] loss: 0.649\n",
      "[34, 10000] loss: 0.626\n",
      "[34, 12000] loss: 0.676\n",
      "[35,  2000] loss: 0.535\n",
      "[35,  4000] loss: 0.597\n",
      "[35,  6000] loss: 0.594\n",
      "[35,  8000] loss: 0.621\n",
      "[35, 10000] loss: 0.634\n",
      "[35, 12000] loss: 0.685\n",
      "[36,  2000] loss: 0.558\n",
      "[36,  4000] loss: 0.576\n",
      "[36,  6000] loss: 0.594\n",
      "[36,  8000] loss: 0.612\n",
      "[36, 10000] loss: 0.642\n",
      "[36, 12000] loss: 0.658\n",
      "[37,  2000] loss: 0.539\n",
      "[37,  4000] loss: 0.559\n",
      "[37,  6000] loss: 0.616\n",
      "[37,  8000] loss: 0.615\n",
      "[37, 10000] loss: 0.647\n",
      "[37, 12000] loss: 0.656\n",
      "[38,  2000] loss: 0.536\n",
      "[38,  4000] loss: 0.586\n",
      "[38,  6000] loss: 0.587\n",
      "[38,  8000] loss: 0.636\n",
      "[38, 10000] loss: 0.616\n",
      "[38, 12000] loss: 0.661\n",
      "[39,  2000] loss: 0.526\n",
      "[39,  4000] loss: 0.578\n",
      "[39,  6000] loss: 0.607\n",
      "[39,  8000] loss: 0.638\n",
      "[39, 10000] loss: 0.661\n",
      "[39, 12000] loss: 0.657\n",
      "[40,  2000] loss: 0.523\n",
      "[40,  4000] loss: 0.561\n",
      "[40,  6000] loss: 0.619\n",
      "[40,  8000] loss: 0.594\n",
      "[40, 10000] loss: 0.638\n",
      "[40, 12000] loss: 0.680\n",
      "[41,  2000] loss: 0.533\n",
      "[41,  4000] loss: 0.583\n",
      "[41,  6000] loss: 0.596\n",
      "[41,  8000] loss: 0.632\n",
      "[41, 10000] loss: 0.642\n",
      "[41, 12000] loss: 0.673\n",
      "[42,  2000] loss: 0.529\n",
      "[42,  4000] loss: 0.596\n",
      "[42,  6000] loss: 0.603\n",
      "[42,  8000] loss: 0.603\n",
      "[42, 10000] loss: 0.642\n",
      "[42, 12000] loss: 0.659\n",
      "[43,  2000] loss: 0.550\n",
      "[43,  4000] loss: 0.581\n",
      "[43,  6000] loss: 0.579\n",
      "[43,  8000] loss: 0.606\n",
      "[43, 10000] loss: 0.638\n",
      "[43, 12000] loss: 0.667\n",
      "[44,  2000] loss: 0.533\n",
      "[44,  4000] loss: 0.541\n",
      "[44,  6000] loss: 0.623\n",
      "[44,  8000] loss: 0.633\n",
      "[44, 10000] loss: 0.632\n",
      "[44, 12000] loss: 0.650\n",
      "[45,  2000] loss: 0.538\n",
      "[45,  4000] loss: 0.589\n",
      "[45,  6000] loss: 0.581\n",
      "[45,  8000] loss: 0.639\n",
      "[45, 10000] loss: 0.659\n",
      "[45, 12000] loss: 0.635\n",
      "[46,  2000] loss: 0.520\n",
      "[46,  4000] loss: 0.563\n",
      "[46,  6000] loss: 0.619\n",
      "[46,  8000] loss: 0.634\n",
      "[46, 10000] loss: 0.629\n",
      "[46, 12000] loss: 0.649\n",
      "[47,  2000] loss: 0.540\n",
      "[47,  4000] loss: 0.547\n",
      "[47,  6000] loss: 0.626\n",
      "[47,  8000] loss: 0.624\n",
      "[47, 10000] loss: 0.628\n",
      "[47, 12000] loss: 0.638\n",
      "[48,  2000] loss: 0.579\n",
      "[48,  4000] loss: 0.575\n",
      "[48,  6000] loss: 0.635\n",
      "[48,  8000] loss: 0.628\n",
      "[48, 10000] loss: 0.623\n",
      "[48, 12000] loss: 0.649\n",
      "[49,  2000] loss: 0.565\n",
      "[49,  4000] loss: 0.577\n",
      "[49,  6000] loss: 0.580\n",
      "[49,  8000] loss: 0.621\n",
      "[49, 10000] loss: 0.642\n",
      "[49, 12000] loss: 0.640\n",
      "[50,  2000] loss: 0.515\n",
      "[50,  4000] loss: 0.561\n",
      "[50,  6000] loss: 0.582\n",
      "[50,  8000] loss: 0.629\n",
      "[50, 10000] loss: 0.648\n",
      "[50, 12000] loss: 0.664\n",
      "Finished Training\n"
     ]
    }
   ],
   "source": [
    "for epoch in range(50):  # loop over the dataset multiple times\n",
    "\n",
    "    running_loss = 0.0\n",
    "    for i, data in enumerate(trainloader, 0):\n",
    "        # get the inputs\n",
    "        inputs, labels = data\n",
    "\n",
    "        # wrap them in Variable\n",
    "        inputs, labels = Variable(inputs), Variable(labels)\n",
    "\n",
    "        # zero the parameter gradients\n",
    "        optimizer.zero_grad()\n",
    "\n",
    "        # forward + backward + optimize\n",
    "        outputs = net(inputs)\n",
    "        loss = criterion(outputs, labels)\n",
    "        loss.backward()\n",
    "        optimizer.step()\n",
    "\n",
    "        # print statistics\n",
    "        running_loss += loss.data[0]\n",
    "        if i % 2000 == 1999:    # print every 2000 mini-batches\n",
    "            print('[%d, %5d] loss: %.3f' %\n",
    "                  (epoch + 1, i + 1, running_loss / 2000))\n",
    "            running_loss = 0.0\n",
    "\n",
    "print('Finished Training')"
   ]
  },
  {
   "cell_type": "markdown",
   "metadata": {},
   "source": [
    "5. Test the network on the test data\n",
    "^^^^^^^^^^^^^^^^^^^^^^^^^^^^^^^^^^^^\n",
    "\n",
    "We have trained the network for 2 passes over the training dataset.\n",
    "But we need to check if the network has learnt anything at all.\n",
    "\n",
    "We will check this by predicting the class label that the neural network\n",
    "outputs, and checking it against the ground-truth. If the prediction is\n",
    "correct, we add the sample to the list of correct predictions.\n",
    "\n",
    "Okay, first step. Let us display an image from the test set to get familiar.\n",
    "\n"
   ]
  },
  {
   "cell_type": "code",
   "execution_count": 15,
   "metadata": {},
   "outputs": [
    {
     "name": "stdout",
     "output_type": "stream",
     "text": [
      "GroundTruth:    cat  ship  ship plane\n"
     ]
    },
    {
     "data": {
      "image/png": "[encoded data removed]",
      "text/plain": [
       "<matplotlib.figure.Figure at 0x7f6fef472b70>"
      ]
     },
     "metadata": {},
     "output_type": "display_data"
    }
   ],
   "source": [
    "dataiter = iter(testloader)\n",
    "images, labels = dataiter.next()\n",
    "\n",
    "# print images\n",
    "imshow(torchvision.utils.make_grid(images))\n",
    "print('GroundTruth: ', ' '.join('%5s' % classes[labels[j]] for j in range(4)))"
   ]
  },
  {
   "cell_type": "markdown",
   "metadata": {},
   "source": [
    "Okay, now let us see what the neural network thinks these examples above are:\n",
    "\n"
   ]
  },
  {
   "cell_type": "code",
   "execution_count": 16,
   "metadata": {},
   "outputs": [],
   "source": [
    "outputs = net(Variable(images))"
   ]
  },
  {
   "cell_type": "markdown",
   "metadata": {},
   "source": [
    "The outputs are energies for the 10 classes.\n",
    "Higher the energy for a class, the more the network\n",
    "thinks that the image is of the particular class.\n",
    "So, let's get the index of the highest energy:\n",
    "\n"
   ]
  },
  {
   "cell_type": "code",
   "execution_count": 17,
   "metadata": {},
   "outputs": [
    {
     "name": "stdout",
     "output_type": "stream",
     "text": [
      "Predicted:    dog   car  ship  ship\n"
     ]
    }
   ],
   "source": [
    "_, predicted = torch.max(outputs.data, 1)\n",
    "\n",
    "print('Predicted: ', ' '.join('%5s' % classes[predicted[j]]\n",
    "                              for j in range(4)))"
   ]
  },
  {
   "cell_type": "code",
   "execution_count": 11,
   "metadata": {},
   "outputs": [
    {
     "name": "stdout",
     "output_type": "stream",
     "text": [
      "Predicted:    cat  ship  ship  ship\n"
     ]
    }
   ],
   "source": [
    "_, predicted = torch.max(outputs.data, 1)\n",
    "\n",
    "print('Predicted: ', ' '.join('%5s' % classes[predicted[j]]\n",
    "                              for j in range(4)))"
   ]
  },
  {
   "cell_type": "markdown",
   "metadata": {},
   "source": [
    "The results seem pretty good.\n",
    "\n",
    "Let us look at how the network performs on the whole dataset.\n",
    "\n"
   ]
  },
  {
   "cell_type": "code",
   "execution_count": 12,
   "metadata": {},
   "outputs": [
    {
     "name": "stdout",
     "output_type": "stream",
     "text": [
      "Accuracy of the network on the 10000 test images: 52 %\n"
     ]
    }
   ],
   "source": [
    "correct = 0\n",
    "total = 0\n",
    "for data in testloader:\n",
    "    images, labels = data\n",
    "    outputs = net(Variable(images))\n",
    "    _, predicted = torch.max(outputs.data, 1)\n",
    "    total += labels.size(0)\n",
    "    correct += (predicted == labels).sum()\n",
    "\n",
    "print('Accuracy of the network on the 10000 test images: %d %%' % (\n",
    "    100 * correct / total))"
   ]
  },
  {
   "cell_type": "code",
   "execution_count": 18,
   "metadata": {},
   "outputs": [
    {
     "name": "stdout",
     "output_type": "stream",
     "text": [
      "Accuracy of the network on the 10000 test images: 57 %\n"
     ]
    }
   ],
   "source": [
    "correct = 0\n",
    "total = 0\n",
    "for data in testloader:\n",
    "    images, labels = data\n",
    "    outputs = net(Variable(images))\n",
    "    _, predicted = torch.max(outputs.data, 1)\n",
    "    total += labels.size(0)\n",
    "    correct += (predicted == labels).sum()\n",
    "\n",
    "print('Accuracy of the network on the 10000 test images: %d %%' % (\n",
    "    100 * correct / total))"
   ]
  },
  {
   "cell_type": "markdown",
   "metadata": {},
   "source": [
    "That looks waaay better than chance, which is 10% accuracy (randomly picking\n",
    "a class out of 10 classes).\n",
    "Seems like the network learnt something.\n",
    "\n",
    "Hmmm, what are the classes that performed well, and the classes that did\n",
    "not perform well:\n",
    "\n"
   ]
  },
  {
   "cell_type": "code",
   "execution_count": 13,
   "metadata": {},
   "outputs": [
    {
     "name": "stdout",
     "output_type": "stream",
     "text": [
      "Accuracy of plane : 54 %\n",
      "Accuracy of   car : 74 %\n",
      "Accuracy of  bird : 34 %\n",
      "Accuracy of   cat : 39 %\n",
      "Accuracy of  deer : 38 %\n",
      "Accuracy of   dog : 49 %\n",
      "Accuracy of  frog : 72 %\n",
      "Accuracy of horse : 63 %\n",
      "Accuracy of  ship : 62 %\n",
      "Accuracy of truck : 33 %\n"
     ]
    }
   ],
   "source": [
    "class_correct = list(0. for i in range(10))\n",
    "class_total = list(0. for i in range(10))\n",
    "for data in testloader:\n",
    "    images, labels = data\n",
    "    outputs = net(Variable(images))\n",
    "    _, predicted = torch.max(outputs.data, 1)\n",
    "    c = (predicted == labels).squeeze()\n",
    "    for i in range(4):\n",
    "        label = labels[i]\n",
    "        class_correct[label] += c[i]\n",
    "        class_total[label] += 1\n",
    "\n",
    "\n",
    "for i in range(10):\n",
    "    print('Accuracy of %5s : %2d %%' % (\n",
    "        classes[i], 100 * class_correct[i] / class_total[i]))"
   ]
  },
  {
   "cell_type": "code",
   "execution_count": 19,
   "metadata": {},
   "outputs": [
    {
     "name": "stdout",
     "output_type": "stream",
     "text": [
      "Accuracy of plane : 58 %\n",
      "Accuracy of   car : 73 %\n",
      "Accuracy of  bird : 49 %\n",
      "Accuracy of   cat : 41 %\n",
      "Accuracy of  deer : 55 %\n",
      "Accuracy of   dog : 39 %\n",
      "Accuracy of  frog : 71 %\n",
      "Accuracy of horse : 62 %\n",
      "Accuracy of  ship : 63 %\n",
      "Accuracy of truck : 63 %\n"
     ]
    }
   ],
   "source": [
    "class_correct = list(0. for i in range(10))\n",
    "class_total = list(0. for i in range(10))\n",
    "for data in testloader:\n",
    "    images, labels = data\n",
    "    outputs = net(Variable(images))\n",
    "    _, predicted = torch.max(outputs.data, 1)\n",
    "    c = (predicted == labels).squeeze()\n",
    "    for i in range(4):\n",
    "        label = labels[i]\n",
    "        class_correct[label] += c[i]\n",
    "        class_total[label] += 1\n",
    "\n",
    "\n",
    "for i in range(10):\n",
    "    print('Accuracy of %5s : %2d %%' % (\n",
    "        classes[i], 100 * class_correct[i] / class_total[i]))"
   ]
  },
  {
   "cell_type": "markdown",
   "metadata": {},
   "source": [
    "Okay, so what next?\n",
    "\n",
    "How do we run these neural networks on the GPU?\n",
    "\n",
    "Training on GPU\n",
    "----------------\n",
    "Just like how you transfer a Tensor on to the GPU, you transfer the neural\n",
    "net onto the GPU.\n",
    "This will recursively go over all modules and convert their parameters and\n",
    "buffers to CUDA tensors:\n",
    "\n",
    ".. code:: python\n",
    "\n",
    "    net.cuda()\n",
    "\n",
    "\n",
    "Remember that you will have to send the inputs and targets at every step\n",
    "to the GPU too:\n",
    "\n",
    "::\n",
    "\n",
    "        inputs, labels = Variable(inputs.cuda()), Variable(labels.cuda())\n",
    "\n",
    "Why dont I notice MASSIVE speedup compared to CPU? Because your network\n",
    "is realllly small.\n",
    "\n",
    "**Exercise:** Try increasing the width of your network (argument 2 of\n",
    "the first ``nn.Conv2d``, and argument 1 of the second ``nn.Conv2d`` –\n",
    "they need to be the same number), see what kind of speedup you get.\n",
    "\n",
    "**Goals achieved**:\n",
    "\n",
    "- Understanding PyTorch's Tensor library and neural networks at a high level.\n",
    "- Train a small neural network to classify images\n",
    "\n",
    "Training on multiple GPUs\n",
    "-------------------------\n",
    "If you want to see even more MASSIVE speedup using all of your GPUs,\n",
    "please check out :doc:`data_parallel_tutorial`.\n",
    "\n",
    "Where do I go next?\n",
    "-------------------\n",
    "\n",
    "-  :doc:`Train neural nets to play video games </intermediate/reinforcement_q_learning>`\n",
    "-  `Train a state-of-the-art ResNet network on imagenet`_\n",
    "-  `Train a face generator using Generative Adversarial Networks`_\n",
    "-  `Train a word-level language model using Recurrent LSTM networks`_\n",
    "-  `More examples`_\n",
    "-  `More tutorials`_\n",
    "-  `Discuss PyTorch on the Forums`_\n",
    "-  `Chat with other users on Slack`_\n",
    "\n",
    "\n"
   ]
  }
 ],
 "metadata": {
  "kernelspec": {
   "display_name": "Python 3",
   "language": "python",
   "name": "python3"
  },
  "language_info": {
   "codemirror_mode": {
    "name": "ipython",
    "version": 3
   },
   "file_extension": ".py",
   "mimetype": "text/x-python",
   "name": "python",
   "nbconvert_exporter": "python",
   "pygments_lexer": "ipython3",
   "version": "3.6.4"
  }
 },
 "nbformat": 4,
 "nbformat_minor": 1
}
